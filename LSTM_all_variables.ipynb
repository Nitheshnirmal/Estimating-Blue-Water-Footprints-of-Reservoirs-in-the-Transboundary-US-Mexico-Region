{
 "cells": [
  {
   "cell_type": "code",
   "execution_count": 1,
   "metadata": {
    "id": "XrTalN7U6GYt"
   },
   "outputs": [],
   "source": [
    "import numpy as np\n",
    "import pandas as pd\n",
    "\n",
    "import matplotlib.pyplot as plt\n",
    "import seaborn as sns"
   ]
  },
  {
   "cell_type": "markdown",
   "metadata": {
    "colab": {
     "base_uri": "https://localhost:8080/"
    },
    "id": "42laQqyx6aeu",
    "outputId": "b564ef7f-d169-40dc-9e66-2da90ae07df6"
   },
   "source": [
    "from google.colab import drive\n",
    "drive.mount('/content/drive')"
   ]
  },
  {
   "cell_type": "code",
   "execution_count": 2,
   "metadata": {
    "id": "bDTx283l7bvb"
   },
   "outputs": [],
   "source": [
    "data_path = r'RSandUSBR_data.csv'\n",
    "\n",
    "df = pd.read_csv(data_path)"
   ]
  },
  {
   "cell_type": "code",
   "execution_count": 3,
   "metadata": {
    "colab": {
     "base_uri": "https://localhost:8080/",
     "height": 261
    },
    "id": "0nH2-jTI70vD",
    "outputId": "46310d1b-a437-4f9d-8c51-c97b3dc6ea04"
   },
   "outputs": [
    {
     "data": {
      "text/html": [
       "<div>\n",
       "<style scoped>\n",
       "    .dataframe tbody tr th:only-of-type {\n",
       "        vertical-align: middle;\n",
       "    }\n",
       "\n",
       "    .dataframe tbody tr th {\n",
       "        vertical-align: top;\n",
       "    }\n",
       "\n",
       "    .dataframe thead th {\n",
       "        text-align: right;\n",
       "    }\n",
       "</style>\n",
       "<table border=\"1\" class=\"dataframe\">\n",
       "  <thead>\n",
       "    <tr style=\"text-align: right;\">\n",
       "      <th></th>\n",
       "      <th>Unnamed: 0</th>\n",
       "      <th>Date</th>\n",
       "      <th>Precipitation</th>\n",
       "      <th>Precipitation_(-1d)</th>\n",
       "      <th>Precipitation_(-7d)</th>\n",
       "      <th>Volumetric Soil moisture</th>\n",
       "      <th>2m_Temp</th>\n",
       "      <th>Discharge</th>\n",
       "      <th>Evaporation</th>\n",
       "      <th>Sat_Area</th>\n",
       "      <th>Real time storage</th>\n",
       "    </tr>\n",
       "  </thead>\n",
       "  <tbody>\n",
       "    <tr>\n",
       "      <th>0</th>\n",
       "      <td>0</td>\n",
       "      <td>1/14/1990</td>\n",
       "      <td>0.0</td>\n",
       "      <td>0.000</td>\n",
       "      <td>0.000</td>\n",
       "      <td>0.005457</td>\n",
       "      <td>8.307883</td>\n",
       "      <td>622.0</td>\n",
       "      <td>232.819472</td>\n",
       "      <td>83.057795</td>\n",
       "      <td>1692000</td>\n",
       "    </tr>\n",
       "    <tr>\n",
       "      <th>1</th>\n",
       "      <td>1</td>\n",
       "      <td>4/4/1990</td>\n",
       "      <td>0.0</td>\n",
       "      <td>0.000</td>\n",
       "      <td>0.000</td>\n",
       "      <td>0.056118</td>\n",
       "      <td>14.296631</td>\n",
       "      <td>385.0</td>\n",
       "      <td>280.031540</td>\n",
       "      <td>81.264840</td>\n",
       "      <td>1639600</td>\n",
       "    </tr>\n",
       "    <tr>\n",
       "      <th>2</th>\n",
       "      <td>2</td>\n",
       "      <td>4/11/1990</td>\n",
       "      <td>0.0</td>\n",
       "      <td>0.000</td>\n",
       "      <td>0.000</td>\n",
       "      <td>0.022323</td>\n",
       "      <td>17.140956</td>\n",
       "      <td>36.0</td>\n",
       "      <td>661.206166</td>\n",
       "      <td>80.886614</td>\n",
       "      <td>1626800</td>\n",
       "    </tr>\n",
       "    <tr>\n",
       "      <th>3</th>\n",
       "      <td>3</td>\n",
       "      <td>4/20/1990</td>\n",
       "      <td>0.0</td>\n",
       "      <td>0.000</td>\n",
       "      <td>0.000</td>\n",
       "      <td>0.113441</td>\n",
       "      <td>13.940720</td>\n",
       "      <td>0.0</td>\n",
       "      <td>536.174092</td>\n",
       "      <td>80.579682</td>\n",
       "      <td>1613600</td>\n",
       "    </tr>\n",
       "    <tr>\n",
       "      <th>4</th>\n",
       "      <td>4</td>\n",
       "      <td>5/6/1990</td>\n",
       "      <td>0.0</td>\n",
       "      <td>0.319</td>\n",
       "      <td>1.164</td>\n",
       "      <td>0.114180</td>\n",
       "      <td>14.372926</td>\n",
       "      <td>523.0</td>\n",
       "      <td>563.486792</td>\n",
       "      <td>80.213382</td>\n",
       "      <td>1586200</td>\n",
       "    </tr>\n",
       "  </tbody>\n",
       "</table>\n",
       "</div>"
      ],
      "text/plain": [
       "   Unnamed: 0       Date  Precipitation  Precipitation_(-1d)  \\\n",
       "0           0  1/14/1990            0.0                0.000   \n",
       "1           1   4/4/1990            0.0                0.000   \n",
       "2           2  4/11/1990            0.0                0.000   \n",
       "3           3  4/20/1990            0.0                0.000   \n",
       "4           4   5/6/1990            0.0                0.319   \n",
       "\n",
       "   Precipitation_(-7d)  Volumetric Soil moisture    2m_Temp  Discharge  \\\n",
       "0                0.000                  0.005457   8.307883      622.0   \n",
       "1                0.000                  0.056118  14.296631      385.0   \n",
       "2                0.000                  0.022323  17.140956       36.0   \n",
       "3                0.000                  0.113441  13.940720        0.0   \n",
       "4                1.164                  0.114180  14.372926      523.0   \n",
       "\n",
       "   Evaporation   Sat_Area  Real time storage  \n",
       "0   232.819472  83.057795            1692000  \n",
       "1   280.031540  81.264840            1639600  \n",
       "2   661.206166  80.886614            1626800  \n",
       "3   536.174092  80.579682            1613600  \n",
       "4   563.486792  80.213382            1586200  "
      ]
     },
     "execution_count": 3,
     "metadata": {},
     "output_type": "execute_result"
    }
   ],
   "source": [
    "df.head()"
   ]
  },
  {
   "cell_type": "code",
   "execution_count": 4,
   "metadata": {
    "id": "q54USJXwR6OM"
   },
   "outputs": [],
   "source": [
    "#max_value = df['swv'].max()\n",
    "#max_value\n",
    "\n"
   ]
  },
  {
   "cell_type": "code",
   "execution_count": 5,
   "metadata": {
    "id": "X01KdW-BR10K"
   },
   "outputs": [],
   "source": [
    "# @title GW\n",
    "\n",
    "#from matplotlib import pyplot as plt\n",
    "#df['GW'].plot(kind='hist', bins=20, title='GW')\n",
    "#plt.gca().spines[['top', 'right',]].set_visible(False)"
   ]
  },
  {
   "cell_type": "code",
   "execution_count": 6,
   "metadata": {
    "id": "vcS5Shb98tEf"
   },
   "outputs": [],
   "source": [
    "df.index = pd.to_datetime(df.Date)"
   ]
  },
  {
   "cell_type": "code",
   "execution_count": 7,
   "metadata": {
    "colab": {
     "base_uri": "https://localhost:8080/",
     "height": 379
    },
    "id": "TR2NlUpe-STs",
    "outputId": "8093ab1f-982a-4e97-dce5-fb4b8d129140"
   },
   "outputs": [
    {
     "data": {
      "text/html": [
       "<div>\n",
       "<style scoped>\n",
       "    .dataframe tbody tr th:only-of-type {\n",
       "        vertical-align: middle;\n",
       "    }\n",
       "\n",
       "    .dataframe tbody tr th {\n",
       "        vertical-align: top;\n",
       "    }\n",
       "\n",
       "    .dataframe thead th {\n",
       "        text-align: right;\n",
       "    }\n",
       "</style>\n",
       "<table border=\"1\" class=\"dataframe\">\n",
       "  <thead>\n",
       "    <tr style=\"text-align: right;\">\n",
       "      <th></th>\n",
       "      <th>Unnamed: 0</th>\n",
       "      <th>Date</th>\n",
       "      <th>Precipitation</th>\n",
       "      <th>Precipitation_(-1d)</th>\n",
       "      <th>Precipitation_(-7d)</th>\n",
       "      <th>Volumetric Soil moisture</th>\n",
       "      <th>2m_Temp</th>\n",
       "      <th>Discharge</th>\n",
       "      <th>Evaporation</th>\n",
       "      <th>Sat_Area</th>\n",
       "      <th>Real time storage</th>\n",
       "    </tr>\n",
       "    <tr>\n",
       "      <th>Date</th>\n",
       "      <th></th>\n",
       "      <th></th>\n",
       "      <th></th>\n",
       "      <th></th>\n",
       "      <th></th>\n",
       "      <th></th>\n",
       "      <th></th>\n",
       "      <th></th>\n",
       "      <th></th>\n",
       "      <th></th>\n",
       "      <th></th>\n",
       "    </tr>\n",
       "  </thead>\n",
       "  <tbody>\n",
       "    <tr>\n",
       "      <th>1990-01-14</th>\n",
       "      <td>0</td>\n",
       "      <td>1/14/1990</td>\n",
       "      <td>0.0</td>\n",
       "      <td>0.000</td>\n",
       "      <td>0.000</td>\n",
       "      <td>0.005457</td>\n",
       "      <td>8.307883</td>\n",
       "      <td>622.0</td>\n",
       "      <td>232.819472</td>\n",
       "      <td>83.057795</td>\n",
       "      <td>1692000</td>\n",
       "    </tr>\n",
       "    <tr>\n",
       "      <th>1990-04-04</th>\n",
       "      <td>1</td>\n",
       "      <td>4/4/1990</td>\n",
       "      <td>0.0</td>\n",
       "      <td>0.000</td>\n",
       "      <td>0.000</td>\n",
       "      <td>0.056118</td>\n",
       "      <td>14.296631</td>\n",
       "      <td>385.0</td>\n",
       "      <td>280.031540</td>\n",
       "      <td>81.264840</td>\n",
       "      <td>1639600</td>\n",
       "    </tr>\n",
       "    <tr>\n",
       "      <th>1990-04-11</th>\n",
       "      <td>2</td>\n",
       "      <td>4/11/1990</td>\n",
       "      <td>0.0</td>\n",
       "      <td>0.000</td>\n",
       "      <td>0.000</td>\n",
       "      <td>0.022323</td>\n",
       "      <td>17.140956</td>\n",
       "      <td>36.0</td>\n",
       "      <td>661.206166</td>\n",
       "      <td>80.886614</td>\n",
       "      <td>1626800</td>\n",
       "    </tr>\n",
       "    <tr>\n",
       "      <th>1990-04-20</th>\n",
       "      <td>3</td>\n",
       "      <td>4/20/1990</td>\n",
       "      <td>0.0</td>\n",
       "      <td>0.000</td>\n",
       "      <td>0.000</td>\n",
       "      <td>0.113441</td>\n",
       "      <td>13.940720</td>\n",
       "      <td>0.0</td>\n",
       "      <td>536.174092</td>\n",
       "      <td>80.579682</td>\n",
       "      <td>1613600</td>\n",
       "    </tr>\n",
       "    <tr>\n",
       "      <th>1990-05-06</th>\n",
       "      <td>4</td>\n",
       "      <td>5/6/1990</td>\n",
       "      <td>0.0</td>\n",
       "      <td>0.319</td>\n",
       "      <td>1.164</td>\n",
       "      <td>0.114180</td>\n",
       "      <td>14.372926</td>\n",
       "      <td>523.0</td>\n",
       "      <td>563.486792</td>\n",
       "      <td>80.213382</td>\n",
       "      <td>1586200</td>\n",
       "    </tr>\n",
       "  </tbody>\n",
       "</table>\n",
       "</div>"
      ],
      "text/plain": [
       "            Unnamed: 0       Date  Precipitation  Precipitation_(-1d)  \\\n",
       "Date                                                                    \n",
       "1990-01-14           0  1/14/1990            0.0                0.000   \n",
       "1990-04-04           1   4/4/1990            0.0                0.000   \n",
       "1990-04-11           2  4/11/1990            0.0                0.000   \n",
       "1990-04-20           3  4/20/1990            0.0                0.000   \n",
       "1990-05-06           4   5/6/1990            0.0                0.319   \n",
       "\n",
       "            Precipitation_(-7d)  Volumetric Soil moisture    2m_Temp  \\\n",
       "Date                                                                   \n",
       "1990-01-14                0.000                  0.005457   8.307883   \n",
       "1990-04-04                0.000                  0.056118  14.296631   \n",
       "1990-04-11                0.000                  0.022323  17.140956   \n",
       "1990-04-20                0.000                  0.113441  13.940720   \n",
       "1990-05-06                1.164                  0.114180  14.372926   \n",
       "\n",
       "            Discharge  Evaporation   Sat_Area  Real time storage  \n",
       "Date                                                              \n",
       "1990-01-14      622.0   232.819472  83.057795            1692000  \n",
       "1990-04-04      385.0   280.031540  81.264840            1639600  \n",
       "1990-04-11       36.0   661.206166  80.886614            1626800  \n",
       "1990-04-20        0.0   536.174092  80.579682            1613600  \n",
       "1990-05-06      523.0   563.486792  80.213382            1586200  "
      ]
     },
     "execution_count": 7,
     "metadata": {},
     "output_type": "execute_result"
    }
   ],
   "source": [
    "df.head()"
   ]
  },
  {
   "cell_type": "code",
   "execution_count": 8,
   "metadata": {
    "colab": {
     "base_uri": "https://localhost:8080/",
     "height": 379
    },
    "id": "ii-kNlId-X7z",
    "outputId": "c2aaee1e-745a-4155-f0f1-8a23b775f472"
   },
   "outputs": [
    {
     "data": {
      "text/html": [
       "<div>\n",
       "<style scoped>\n",
       "    .dataframe tbody tr th:only-of-type {\n",
       "        vertical-align: middle;\n",
       "    }\n",
       "\n",
       "    .dataframe tbody tr th {\n",
       "        vertical-align: top;\n",
       "    }\n",
       "\n",
       "    .dataframe thead th {\n",
       "        text-align: right;\n",
       "    }\n",
       "</style>\n",
       "<table border=\"1\" class=\"dataframe\">\n",
       "  <thead>\n",
       "    <tr style=\"text-align: right;\">\n",
       "      <th></th>\n",
       "      <th>Real time storage</th>\n",
       "      <th>Precipitation</th>\n",
       "      <th>Precipitation_(-1d)</th>\n",
       "      <th>Precipitation_(-7d)</th>\n",
       "      <th>Volumetric Soil moisture</th>\n",
       "      <th>2m_Temp</th>\n",
       "      <th>Discharge</th>\n",
       "      <th>Evaporation</th>\n",
       "      <th>Sat_Area</th>\n",
       "    </tr>\n",
       "    <tr>\n",
       "      <th>Date</th>\n",
       "      <th></th>\n",
       "      <th></th>\n",
       "      <th></th>\n",
       "      <th></th>\n",
       "      <th></th>\n",
       "      <th></th>\n",
       "      <th></th>\n",
       "      <th></th>\n",
       "      <th></th>\n",
       "    </tr>\n",
       "  </thead>\n",
       "  <tbody>\n",
       "    <tr>\n",
       "      <th>1990-01-14</th>\n",
       "      <td>1692000</td>\n",
       "      <td>0.0</td>\n",
       "      <td>0.000</td>\n",
       "      <td>0.000</td>\n",
       "      <td>0.005457</td>\n",
       "      <td>8.307883</td>\n",
       "      <td>622.0</td>\n",
       "      <td>232.819472</td>\n",
       "      <td>83.057795</td>\n",
       "    </tr>\n",
       "    <tr>\n",
       "      <th>1990-04-04</th>\n",
       "      <td>1639600</td>\n",
       "      <td>0.0</td>\n",
       "      <td>0.000</td>\n",
       "      <td>0.000</td>\n",
       "      <td>0.056118</td>\n",
       "      <td>14.296631</td>\n",
       "      <td>385.0</td>\n",
       "      <td>280.031540</td>\n",
       "      <td>81.264840</td>\n",
       "    </tr>\n",
       "    <tr>\n",
       "      <th>1990-04-11</th>\n",
       "      <td>1626800</td>\n",
       "      <td>0.0</td>\n",
       "      <td>0.000</td>\n",
       "      <td>0.000</td>\n",
       "      <td>0.022323</td>\n",
       "      <td>17.140956</td>\n",
       "      <td>36.0</td>\n",
       "      <td>661.206166</td>\n",
       "      <td>80.886614</td>\n",
       "    </tr>\n",
       "    <tr>\n",
       "      <th>1990-04-20</th>\n",
       "      <td>1613600</td>\n",
       "      <td>0.0</td>\n",
       "      <td>0.000</td>\n",
       "      <td>0.000</td>\n",
       "      <td>0.113441</td>\n",
       "      <td>13.940720</td>\n",
       "      <td>0.0</td>\n",
       "      <td>536.174092</td>\n",
       "      <td>80.579682</td>\n",
       "    </tr>\n",
       "    <tr>\n",
       "      <th>1990-05-06</th>\n",
       "      <td>1586200</td>\n",
       "      <td>0.0</td>\n",
       "      <td>0.319</td>\n",
       "      <td>1.164</td>\n",
       "      <td>0.114180</td>\n",
       "      <td>14.372926</td>\n",
       "      <td>523.0</td>\n",
       "      <td>563.486792</td>\n",
       "      <td>80.213382</td>\n",
       "    </tr>\n",
       "  </tbody>\n",
       "</table>\n",
       "</div>"
      ],
      "text/plain": [
       "            Real time storage  Precipitation  Precipitation_(-1d)  \\\n",
       "Date                                                                \n",
       "1990-01-14            1692000            0.0                0.000   \n",
       "1990-04-04            1639600            0.0                0.000   \n",
       "1990-04-11            1626800            0.0                0.000   \n",
       "1990-04-20            1613600            0.0                0.000   \n",
       "1990-05-06            1586200            0.0                0.319   \n",
       "\n",
       "            Precipitation_(-7d)  Volumetric Soil moisture    2m_Temp  \\\n",
       "Date                                                                   \n",
       "1990-01-14                0.000                  0.005457   8.307883   \n",
       "1990-04-04                0.000                  0.056118  14.296631   \n",
       "1990-04-11                0.000                  0.022323  17.140956   \n",
       "1990-04-20                0.000                  0.113441  13.940720   \n",
       "1990-05-06                1.164                  0.114180  14.372926   \n",
       "\n",
       "            Discharge  Evaporation   Sat_Area  \n",
       "Date                                           \n",
       "1990-01-14      622.0   232.819472  83.057795  \n",
       "1990-04-04      385.0   280.031540  81.264840  \n",
       "1990-04-11       36.0   661.206166  80.886614  \n",
       "1990-04-20        0.0   536.174092  80.579682  \n",
       "1990-05-06      523.0   563.486792  80.213382  "
      ]
     },
     "execution_count": 8,
     "metadata": {},
     "output_type": "execute_result"
    }
   ],
   "source": [
    "required_cols = ['Real time storage','Precipitation', 'Precipitation_(-1d)', 'Precipitation_(-7d)', 'Volumetric Soil moisture', '2m_Temp', 'Discharge', 'Evaporation', 'Sat_Area']\n",
    "#required_cols = ['Real time storage','Sat_Area']\n",
    "df = df[required_cols]\n",
    "df.head()"
   ]
  },
  {
   "cell_type": "code",
   "execution_count": 9,
   "metadata": {
    "colab": {
     "base_uri": "https://localhost:8080/",
     "height": 366
    },
    "id": "LMC7PNR6-3jP",
    "outputId": "07cba162-ae7f-4818-e96a-f69dfa80b0da"
   },
   "outputs": [
    {
     "data": {
      "text/plain": [
       "Real time storage           0\n",
       "Precipitation               0\n",
       "Precipitation_(-1d)         0\n",
       "Precipitation_(-7d)         0\n",
       "Volumetric Soil moisture    0\n",
       "2m_Temp                     0\n",
       "Discharge                   0\n",
       "Evaporation                 0\n",
       "Sat_Area                    0\n",
       "dtype: int64"
      ]
     },
     "execution_count": 9,
     "metadata": {},
     "output_type": "execute_result"
    }
   ],
   "source": [
    "df.isna().sum()"
   ]
  },
  {
   "cell_type": "code",
   "execution_count": null,
   "metadata": {
    "id": "iewB32wnRM1G"
   },
   "outputs": [],
   "source": []
  },
  {
   "cell_type": "code",
   "execution_count": 10,
   "metadata": {
    "id": "DpIALWe4_Hpd"
   },
   "outputs": [],
   "source": [
    "from sklearn.preprocessing import MinMaxScaler\n",
    "\n",
    "#Normalize data\n",
    "\n",
    "scaler = MinMaxScaler()\n",
    "scaled_data = scaler.fit_transform(df)"
   ]
  },
  {
   "cell_type": "code",
   "execution_count": 11,
   "metadata": {
    "id": "3kyaiS4q_e4y"
   },
   "outputs": [],
   "source": [
    "sequence_length = 16\n",
    "num_features = len(df.columns)"
   ]
  },
  {
   "cell_type": "code",
   "execution_count": 12,
   "metadata": {
    "colab": {
     "base_uri": "https://localhost:8080/"
    },
    "id": "wr8WwFV7_rTq",
    "outputId": "0d3d3a5b-17c4-40d6-ec2d-b33bd7d5308d"
   },
   "outputs": [
    {
     "name": "stdout",
     "output_type": "stream",
     "text": [
      "Train X shape: (452, 16, 9)\n",
      "Train Y shape: (452,)\n",
      "Test X shape: (114, 16, 9)\n",
      "Test Y shape: (114,)\n"
     ]
    }
   ],
   "source": [
    "# Create sequences and corresponding labels\n",
    "sequences = []\n",
    "labels = []\n",
    "for i in range(len(scaled_data) - sequence_length):\n",
    "    seq = scaled_data[i:i+sequence_length]\n",
    "    label = scaled_data[i+sequence_length][0]  # '_tempm' column index\n",
    "    sequences.append(seq)\n",
    "    labels.append(label)\n",
    "\n",
    " # Convert to numpy arrays\n",
    "sequences = np.array(sequences)\n",
    "labels = np.array(labels)\n",
    "\n",
    "# Split into train and test sets\n",
    "train_size = int(0.8 * len(sequences))\n",
    "train_x, test_x = sequences[:train_size], sequences[train_size:]\n",
    "train_y, test_y = labels[:train_size], labels[train_size:]\n",
    "\n",
    "print(\"Train X shape:\", train_x.shape)\n",
    "print(\"Train Y shape:\", train_y.shape)\n",
    "print(\"Test X shape:\", test_x.shape)\n",
    "print(\"Test Y shape:\", test_y.shape)"
   ]
  },
  {
   "cell_type": "code",
   "execution_count": 13,
   "metadata": {
    "colab": {
     "base_uri": "https://localhost:8080/"
    },
    "id": "QcrX20YAAaKQ",
    "outputId": "dac372e6-3dae-47ba-e683-aca7354197a7"
   },
   "outputs": [
    {
     "name": "stderr",
     "output_type": "stream",
     "text": [
      "2024-08-09 15:24:26.015971: I tensorflow/tsl/cuda/cudart_stub.cc:28] Could not find cuda drivers on your machine, GPU will not be used.\n",
      "2024-08-09 15:24:26.053086: I tensorflow/tsl/cuda/cudart_stub.cc:28] Could not find cuda drivers on your machine, GPU will not be used.\n",
      "2024-08-09 15:24:26.053757: I tensorflow/core/platform/cpu_feature_guard.cc:182] This TensorFlow binary is optimized to use available CPU instructions in performance-critical operations.\n",
      "To enable the following instructions: AVX2 FMA, in other operations, rebuild TensorFlow with the appropriate compiler flags.\n",
      "2024-08-09 15:24:39.109454: W tensorflow/compiler/tf2tensorrt/utils/py_utils.cc:38] TF-TRT Warning: Could not find TensorRT\n"
     ]
    }
   ],
   "source": [
    "from tensorflow.keras.models import Sequential\n",
    "from tensorflow.keras.layers import LSTM, Dense, Dropout\n",
    "from tensorflow.keras.callbacks import EarlyStopping, ModelCheckpoint\n",
    "\n",
    "# Create the LSTM model\n",
    "model = Sequential()\n",
    "\n",
    "# Add LSTM layers with dropout\n",
    "model.add(LSTM(units=128, input_shape=(train_x.shape[1], train_x.shape[2]), return_sequences=True))\n",
    "model.add(Dropout(0.2))\n",
    "\n",
    "model.add(LSTM(units=64, return_sequences=True))\n",
    "model.add(Dropout(0.2))\n",
    "\n",
    "model.add(LSTM(units=32, return_sequences=False))\n",
    "model.add(Dropout(0.2))\n",
    "\n",
    "# Add a dense output layer\n",
    "model.add(Dense(units=1))\n",
    "\n",
    "# Compile the model\n",
    "model.compile(optimizer='adam', loss='mean_squared_error')"
   ]
  },
  {
   "cell_type": "code",
   "execution_count": 14,
   "metadata": {
    "colab": {
     "base_uri": "https://localhost:8080/",
     "height": 364
    },
    "id": "m4Zbgnk0BBaG",
    "outputId": "f8967f39-b2e1-463b-f686-8ad2048f4fe4"
   },
   "outputs": [
    {
     "name": "stdout",
     "output_type": "stream",
     "text": [
      "Model: \"sequential\"\n",
      "_________________________________________________________________\n",
      " Layer (type)                Output Shape              Param #   \n",
      "=================================================================\n",
      " lstm (LSTM)                 (None, 16, 128)           70656     \n",
      "                                                                 \n",
      " dropout (Dropout)           (None, 16, 128)           0         \n",
      "                                                                 \n",
      " lstm_1 (LSTM)               (None, 16, 64)            49408     \n",
      "                                                                 \n",
      " dropout_1 (Dropout)         (None, 16, 64)            0         \n",
      "                                                                 \n",
      " lstm_2 (LSTM)               (None, 32)                12416     \n",
      "                                                                 \n",
      " dropout_2 (Dropout)         (None, 32)                0         \n",
      "                                                                 \n",
      " dense (Dense)               (None, 1)                 33        \n",
      "                                                                 \n",
      "=================================================================\n",
      "Total params: 132513 (517.63 KB)\n",
      "Trainable params: 132513 (517.63 KB)\n",
      "Non-trainable params: 0 (0.00 Byte)\n",
      "_________________________________________________________________\n"
     ]
    }
   ],
   "source": [
    "model.summary()"
   ]
  },
  {
   "cell_type": "code",
   "execution_count": 15,
   "metadata": {
    "colab": {
     "base_uri": "https://localhost:8080/"
    },
    "id": "FA4OhdEGBNcN",
    "outputId": "15db9526-dfdf-4b97-dff9-0b5684446274"
   },
   "outputs": [
    {
     "name": "stdout",
     "output_type": "stream",
     "text": [
      "Epoch 1/100\n",
      "5/6 [========================>.....] - ETA: 0s - loss: 0.1799"
     ]
    },
    {
     "ename": "PermissionDeniedError",
     "evalue": "/content; Permission denied",
     "output_type": "error",
     "traceback": [
      "\u001b[0;31m---------------------------------------------------------------------------\u001b[0m",
      "\u001b[0;31mPermissionDeniedError\u001b[0m                     Traceback (most recent call last)",
      "Input \u001b[0;32mIn [15]\u001b[0m, in \u001b[0;36m<cell line: 6>\u001b[0;34m()\u001b[0m\n\u001b[1;32m      3\u001b[0m model_checkpoint \u001b[38;5;241m=\u001b[39m ModelCheckpoint(\u001b[38;5;124m'\u001b[39m\u001b[38;5;124m/content/drive/MyDrive/ML_GW_GIS/best_model_weights.keras\u001b[39m\u001b[38;5;124m'\u001b[39m, monitor\u001b[38;5;241m=\u001b[39m\u001b[38;5;124m'\u001b[39m\u001b[38;5;124mval_loss\u001b[39m\u001b[38;5;124m'\u001b[39m, save_best_only\u001b[38;5;241m=\u001b[39m\u001b[38;5;28;01mTrue\u001b[39;00m)\n\u001b[1;32m      5\u001b[0m \u001b[38;5;66;03m# Train the model\u001b[39;00m\n\u001b[0;32m----> 6\u001b[0m history \u001b[38;5;241m=\u001b[39m \u001b[43mmodel\u001b[49m\u001b[38;5;241;43m.\u001b[39;49m\u001b[43mfit\u001b[49m\u001b[43m(\u001b[49m\n\u001b[1;32m      7\u001b[0m \u001b[43m    \u001b[49m\u001b[43mtrain_x\u001b[49m\u001b[43m,\u001b[49m\u001b[43m \u001b[49m\u001b[43mtrain_y\u001b[49m\u001b[43m,\u001b[49m\n\u001b[1;32m      8\u001b[0m \u001b[43m    \u001b[49m\u001b[43mepochs\u001b[49m\u001b[38;5;241;43m=\u001b[39;49m\u001b[38;5;241;43m100\u001b[39;49m\u001b[43m,\u001b[49m\n\u001b[1;32m      9\u001b[0m \u001b[43m    \u001b[49m\u001b[43mbatch_size\u001b[49m\u001b[38;5;241;43m=\u001b[39;49m\u001b[38;5;241;43m64\u001b[39;49m\u001b[43m,\u001b[49m\n\u001b[1;32m     10\u001b[0m \u001b[43m    \u001b[49m\u001b[43mvalidation_split\u001b[49m\u001b[38;5;241;43m=\u001b[39;49m\u001b[38;5;241;43m0.2\u001b[39;49m\u001b[43m,\u001b[49m\u001b[43m  \u001b[49m\u001b[38;5;66;43;03m# Use part of the training data as validation\u001b[39;49;00m\n\u001b[1;32m     11\u001b[0m \u001b[43m    \u001b[49m\u001b[43mcallbacks\u001b[49m\u001b[38;5;241;43m=\u001b[39;49m\u001b[43m[\u001b[49m\u001b[43mearly_stopping\u001b[49m\u001b[43m,\u001b[49m\u001b[43m \u001b[49m\u001b[43mmodel_checkpoint\u001b[49m\u001b[43m]\u001b[49m\n\u001b[1;32m     12\u001b[0m \u001b[43m)\u001b[49m\n",
      "File \u001b[0;32m~/.local/iguide/lib/python3.8/site-packages/keras/src/utils/traceback_utils.py:70\u001b[0m, in \u001b[0;36mfilter_traceback.<locals>.error_handler\u001b[0;34m(*args, **kwargs)\u001b[0m\n\u001b[1;32m     67\u001b[0m     filtered_tb \u001b[38;5;241m=\u001b[39m _process_traceback_frames(e\u001b[38;5;241m.\u001b[39m__traceback__)\n\u001b[1;32m     68\u001b[0m     \u001b[38;5;66;03m# To get the full stack trace, call:\u001b[39;00m\n\u001b[1;32m     69\u001b[0m     \u001b[38;5;66;03m# `tf.debugging.disable_traceback_filtering()`\u001b[39;00m\n\u001b[0;32m---> 70\u001b[0m     \u001b[38;5;28;01mraise\u001b[39;00m e\u001b[38;5;241m.\u001b[39mwith_traceback(filtered_tb) \u001b[38;5;28;01mfrom\u001b[39;00m \u001b[38;5;28;01mNone\u001b[39;00m\n\u001b[1;32m     71\u001b[0m \u001b[38;5;28;01mfinally\u001b[39;00m:\n\u001b[1;32m     72\u001b[0m     \u001b[38;5;28;01mdel\u001b[39;00m filtered_tb\n",
      "File \u001b[0;32m~/.local/iguide/lib/python3.8/site-packages/tensorflow/python/lib/io/file_io.py:513\u001b[0m, in \u001b[0;36mrecursive_create_dir_v2\u001b[0;34m(path)\u001b[0m\n\u001b[1;32m    501\u001b[0m \u001b[38;5;129m@tf_export\u001b[39m(\u001b[38;5;124m\"\u001b[39m\u001b[38;5;124mio.gfile.makedirs\u001b[39m\u001b[38;5;124m\"\u001b[39m)\n\u001b[1;32m    502\u001b[0m \u001b[38;5;28;01mdef\u001b[39;00m \u001b[38;5;21mrecursive_create_dir_v2\u001b[39m(path):\n\u001b[1;32m    503\u001b[0m \u001b[38;5;250m  \u001b[39m\u001b[38;5;124;03m\"\"\"Creates a directory and all parent/intermediate directories.\u001b[39;00m\n\u001b[1;32m    504\u001b[0m \n\u001b[1;32m    505\u001b[0m \u001b[38;5;124;03m  It succeeds if path already exists and is writable.\u001b[39;00m\n\u001b[0;32m   (...)\u001b[0m\n\u001b[1;32m    511\u001b[0m \u001b[38;5;124;03m    errors.OpError: If the operation fails.\u001b[39;00m\n\u001b[1;32m    512\u001b[0m \u001b[38;5;124;03m  \"\"\"\u001b[39;00m\n\u001b[0;32m--> 513\u001b[0m   \u001b[43m_pywrap_file_io\u001b[49m\u001b[38;5;241;43m.\u001b[39;49m\u001b[43mRecursivelyCreateDir\u001b[49m\u001b[43m(\u001b[49m\u001b[43mcompat\u001b[49m\u001b[38;5;241;43m.\u001b[39;49m\u001b[43mpath_to_bytes\u001b[49m\u001b[43m(\u001b[49m\u001b[43mpath\u001b[49m\u001b[43m)\u001b[49m\u001b[43m)\u001b[49m\n",
      "\u001b[0;31mPermissionDeniedError\u001b[0m: /content; Permission denied"
     ]
    }
   ],
   "source": [
    "\n",
    "# Define callbacks\n",
    "early_stopping = EarlyStopping(monitor='val_loss', patience=5, restore_best_weights=True)\n",
    "model_checkpoint = ModelCheckpoint('/content/drive/MyDrive/ML_GW_GIS/best_model_weights.keras', monitor='val_loss', save_best_only=True)\n",
    "\n",
    "# Train the model\n",
    "history = model.fit(\n",
    "    train_x, train_y,\n",
    "    epochs=100,\n",
    "    batch_size=64,\n",
    "    validation_split=0.2,  # Use part of the training data as validation\n",
    "    callbacks=[early_stopping, model_checkpoint]\n",
    ")\n"
   ]
  },
  {
   "cell_type": "code",
   "execution_count": null,
   "metadata": {
    "colab": {
     "base_uri": "https://localhost:8080/"
    },
    "id": "_e4SWD2KB016",
    "outputId": "8e5e470e-af9e-4ea3-cac5-2b3477237610"
   },
   "outputs": [],
   "source": [
    "import tensorflow as tf\n",
    "# Evaluate the best model on the test set\n",
    "best_model = tf.keras.models.load_model('/content/drive/MyDrive/ML_GW_GIS/best_model_weights.keras')\n",
    "test_loss = best_model.evaluate(test_x, test_y)\n",
    "print(\"Test Loss:\", test_loss)"
   ]
  },
  {
   "cell_type": "code",
   "execution_count": null,
   "metadata": {
    "colab": {
     "base_uri": "https://localhost:8080/",
     "height": 472
    },
    "id": "gBbXPbhYCU0c",
    "outputId": "0364455f-fcfe-4eba-a4df-943284be621c"
   },
   "outputs": [],
   "source": [
    "\n",
    "# Plot training & validation loss values\n",
    "plt.plot(history.history['loss'])\n",
    "plt.plot(history.history['val_loss'])\n",
    "plt.title('Model Loss')\n",
    "plt.xlabel('Epoch')\n",
    "plt.ylabel('Loss')\n",
    "plt.legend(['Train', 'Validation'], loc='upper right')\n",
    "plt.show()"
   ]
  },
  {
   "cell_type": "code",
   "execution_count": null,
   "metadata": {
    "colab": {
     "base_uri": "https://localhost:8080/"
    },
    "id": "BhBVNETWC0wT",
    "outputId": "0f845229-8010-4df6-c4d8-d8b44be95e85"
   },
   "outputs": [],
   "source": [
    "from sklearn.metrics import mean_absolute_error, mean_squared_error\n",
    "\n",
    "# Assuming you have trained the model and have the 'best_model' object\n",
    "# Also, 'test_x' and 'test_y' should be available\n",
    "\n",
    "# Predict temperatures using the trained model\n",
    "predictions = best_model.predict(test_x)\n",
    "\n",
    "# Calculate evaluation metrics\n",
    "mae = mean_absolute_error(test_y, predictions)\n",
    "mse = mean_squared_error(test_y, predictions)\n",
    "rmse = np.sqrt(mse)\n",
    "\n",
    "print(\"Mean Absolute Error (MAE):\", mae)\n",
    "print(\"Mean Squared Error (MSE):\", mse)\n",
    "print(\"Root Mean Squared Error (RMSE):\", rmse)"
   ]
  },
  {
   "cell_type": "code",
   "execution_count": null,
   "metadata": {
    "colab": {
     "base_uri": "https://localhost:8080/"
    },
    "id": "D2o6cnxyDXSY",
    "outputId": "73b70b9e-f1f8-4a22-8a9d-ecc46e5e3721"
   },
   "outputs": [],
   "source": [
    "from sklearn.preprocessing import StandardScaler, MinMaxScaler\n",
    "# y_true values\n",
    "test_y_copies = np.repeat(test_y.reshape(-1, 1), test_x.shape[-1], axis=-1)\n",
    "true_tem = scaler.inverse_transform(test_y_copies)\n",
    "true_temp = true_tem[:,0]\n",
    "\n",
    "# predicted values\n",
    "prediction = best_model.predict(test_x)\n",
    "# Repeat predictions to match the number of features the scaler expects\n",
    "prediction_copies = np.repeat(prediction, test_x.shape[-1], axis=-1)\n",
    "predicted_temp = scaler.inverse_transform(prediction_copies)[:,0]\n",
    "\n",
    "# predicted values\n",
    "#prediction = best_model.predict(test_x)\n",
    "#prediction_copies = np.repeat(prediction, 6, axis=-1)\n",
    "#predicted_temp = scaler.inverse_transform(prediction_copies)[:,0]"
   ]
  },
  {
   "cell_type": "code",
   "execution_count": null,
   "metadata": {
    "colab": {
     "base_uri": "https://localhost:8080/"
    },
    "id": "s3Qg9N4yEW5C",
    "outputId": "42dcfb57-387e-480e-938e-6c0ecdb9371d"
   },
   "outputs": [],
   "source": [
    "print(true_temp)"
   ]
  },
  {
   "cell_type": "code",
   "execution_count": null,
   "metadata": {
    "colab": {
     "base_uri": "https://localhost:8080/",
     "height": 564
    },
    "id": "AjBdysH4DoiS",
    "outputId": "a8846500-a094-4c23-c593-3629e3b1e992"
   },
   "outputs": [],
   "source": [
    "# Plotting predicted and actual groundwater\n",
    "plt.figure(figsize=(10, 6))\n",
    "plt.plot(df.index[-114:], true_temp[-114:], label='Actual')\n",
    "plt.plot(df.index[-114:], predicted_temp[-114:], label='Predicted')\n",
    "plt.title('Prediction vs Actual')\n",
    "plt.xlabel('Time')\n",
    "plt.ylabel('Reservoir storage volume time series (km^3)')\n",
    "plt.legend()\n",
    "plt.ylim()\n",
    "plt.show()"
   ]
  }
 ],
 "metadata": {
  "colab": {
   "provenance": [],
   "toc_visible": true
  },
  "kernelspec": {
   "display_name": "iguide",
   "language": "python",
   "name": "iguide"
  },
  "language_info": {
   "codemirror_mode": {
    "name": "ipython",
    "version": 3
   },
   "file_extension": ".py",
   "mimetype": "text/x-python",
   "name": "python",
   "nbconvert_exporter": "python",
   "pygments_lexer": "ipython3",
   "version": "3.8.16"
  }
 },
 "nbformat": 4,
 "nbformat_minor": 4
}
